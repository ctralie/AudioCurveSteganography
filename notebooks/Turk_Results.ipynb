{
 "cells": [
  {
   "cell_type": "code",
   "execution_count": 1,
   "id": "a771df08",
   "metadata": {},
   "outputs": [],
   "source": [
    "import numpy as np\n",
    "import matplotlib.pyplot as plt\n",
    "import pandas as pd\n",
    "import seaborn as sns\n",
    "import glob\n",
    "import json"
   ]
  },
  {
   "cell_type": "code",
   "execution_count": 2,
   "id": "374ca57d",
   "metadata": {},
   "outputs": [],
   "source": [
    "df = pd.read_csv(\"../data/turk_results.csv\")"
   ]
  },
  {
   "cell_type": "code",
   "execution_count": 3,
   "id": "9117759b",
   "metadata": {},
   "outputs": [
    {
     "name": "stdout",
     "output_type": "stream",
     "text": [
      "[('A2MCG5W6LHSRG9', 368), ('A2VE5IV9OD2SK1', 303), ('A3P7M9666KJCP', 278), ('A34M93NJC830DP', 198), ('A3OLRWACCCCUTU', 187), ('A6DX45U3O1CR', 159), ('A1NOINYD1FZ55T', 143), ('A1DOJTVB7GXJH7', 139), ('A2J237J8KM3OCS', 138), ('A3O6D3HPXD0H8I', 128), ('A3TDUHEBFJ53NM', 113), ('A1FP3SH704X01V', 108), ('ARTQWWNFA7IOD', 89), ('A6OPXUFETV2BY', 58), ('APSN3KV49VLKX', 58), ('A1BQBQG2GNY8AY', 54), ('A3CJVRJ34U70Y9', 50), ('A3RQJM16UBTZKK', 47), ('A122E99M2DQY1G', 45), ('A1YSYI926BBOHW', 41), ('ASWZO1WY1UHEP', 40), ('A31Z5TPD8QKE26', 28), ('A2HM35CWB7IIFM', 28), ('A2W3KKNN3CAY66', 27), ('A2FCGEU5RTEWG8', 25), ('A2GM5BW75YCKKW', 22), ('A3BEGZR3FC5XQA', 22), ('A149JF209DXZKQ', 20), ('A9HQ3E0F2AGVO', 15), ('A3DU2EWFUGQCX4', 11), ('A11SX02CICZN85', 8), ('A1CF6U3GF7DZEJ', 8), ('A2I8VBHRESMG9S', 6), ('A26399B1QZ7XJJ', 6), ('A2WCCV1W8UE8ED', 5), ('A2F0X4LN9N4O4C', 5), ('A1FVXS8IM5QYO8', 4), ('A234WZ4KX8IW07', 3), ('A1IXVXZ5AYYNMJ', 3), ('A1Y0ABOUJUMCWW', 3), ('ABVM2KJ7CRNZ0', 2), ('A33VGSEJ44ORMF', 1), ('A1EUBMQ86K32XE', 1), ('A34HSCZ1PZCDY0', 1), ('A2BW6WD7LZ9EGV', 1), ('ALQ7GPHT431Q2', 1)]\n",
      "46\n",
      "21\n"
     ]
    }
   ],
   "source": [
    "# First characterize the workers\n",
    "workers = {}\n",
    "for w in df[['WorkerId']].to_dict()['WorkerId'].values():\n",
    "    if not w in workers:\n",
    "        workers[w] = 0\n",
    "    workers[w] += 1\n",
    "workers = [(key, val) for (key, val) in workers.items()]\n",
    "workers = sorted(workers, key=lambda x:-x[1])\n",
    "print(workers)\n",
    "print(len(workers))\n",
    "print(len([w for w in workers if w[1] >= 40]))"
   ]
  },
  {
   "cell_type": "code",
   "execution_count": 4,
   "id": "22801fa3",
   "metadata": {},
   "outputs": [],
   "source": [
    "N = 1000\n",
    "stats = []\n",
    "for i in range(N):\n",
    "    stats.append(json.load(open(\"../data/turksamples/{}.json\".format(i))))"
   ]
  },
  {
   "cell_type": "code",
   "execution_count": 5,
   "id": "ed7ae402",
   "metadata": {},
   "outputs": [],
   "source": [
    "def rating2num(s):\n",
    "    if 'Excellent' in s:\n",
    "        return 5\n",
    "    if 'Good' in s:\n",
    "        return 4\n",
    "    if 'Fair' in s:\n",
    "        return 3\n",
    "    if 'Poor' in s:\n",
    "        return 2\n",
    "    if 'Bad' in s:\n",
    "        return 1"
   ]
  },
  {
   "cell_type": "code",
   "execution_count": 6,
   "id": "dd951ac2",
   "metadata": {},
   "outputs": [],
   "source": [
    "data = dict(fit_lam=[], distortion=[], snr=[], length=[], compression_ratio=[], rating=[])\n",
    "for [idx, label] in df[['idx', 'Label']].to_numpy():\n",
    "    data['rating'].append(rating2num(label))\n",
    "    for key, value in stats[idx].items():\n",
    "        data[key].append(value)\n",
    "data['$\\\\lambda$'] = data['fit_lam']\n",
    "df = pd.DataFrame(data=data)"
   ]
  },
  {
   "cell_type": "code",
   "execution_count": 7,
   "id": "4bacf3a8",
   "metadata": {},
   "outputs": [
    {
     "name": "stderr",
     "output_type": "stream",
     "text": [
      "/home/ctralie/anaconda3/lib/python3.9/site-packages/matplotlib/colors.py:1202: RuntimeWarning: invalid value encountered in true_divide\n",
      "  resdat /= (vmax - vmin)\n"
     ]
    },
    {
     "data": {
      "image/png": "[encoded data removed]",
      "text/plain": [
       "<Figure size 460.8x172.8 with 1 Axes>"
      ]
     },
     "metadata": {
      "needs_background": "light"
     },
     "output_type": "display_data"
    }
   ],
   "source": [
    "fac = 0.8\n",
    "plt.figure(figsize=(fac*8, fac*3))\n",
    "c = plt.cm.Accent\n",
    "palette = {0.1:0.8*np.array(list(c.colors[0])),\n",
    "          1.0:0.95*np.array(list(c.colors[1])),\n",
    "          10.0:np.minimum(1, np.array(list(c.colors[2]))*1.1),\n",
    "          np.inf:np.array(list(c.colors[3]))}\n",
    "sns.histplot(df, x=\"rating\", hue=\"$\\\\lambda$\", palette=palette, multiple='dodge')\n",
    "plt.gca().set_xticks([1, 2, 3, 4, 5])\n",
    "plt.gca().set_xticklabels([\"Bad (1)\", \"Poor (2)\", \"Fair (3)\", \"Good (4)\", \"Excellent (5)\"]);\n",
    "xy = df[['fit_lam', 'rating']].to_numpy()\n",
    "keystr = {0.1:\"0.1\", 1.0:\"1.0\", 10:\"10 \", np.inf:\"\\\\infty     \"}\n",
    "legend = {key:\"$\\\\lambda = {}$ (MOS = {:.2f})\".format(keystr[key], np.mean(xy[xy[:, 0]==key, 1])) for key in np.unique(xy[:, 0])}\n",
    "legend = [(key, value) for key, value in legend.items()]\n",
    "legend = [x[1] for x in sorted(legend)]\n",
    "plt.legend(legend)\n",
    "plt.xlabel(\"Opinion Score\")\n",
    "plt.title(\"Mechanical Turk Opinion Scores\")\n",
    "plt.savefig(\"Turk.svg\", bbox_inches='tight')"
   ]
  },
  {
   "cell_type": "code",
   "execution_count": 8,
   "id": "f2a71508",
   "metadata": {},
   "outputs": [
    {
     "name": "stdout",
     "output_type": "stream",
     "text": [
      "(0.4788399728857971, 8.596835243404816e-172)\n"
     ]
    },
    {
     "data": {
      "text/plain": [
       "<matplotlib.collections.PathCollection at 0x7f783bb304f0>"
      ]
     },
     "execution_count": 8,
     "metadata": {},
     "output_type": "execute_result"
    },
    {
     "data": {
      "image/png": "[encoded data removed]",
      "text/plain": [
       "<Figure size 432x288 with 1 Axes>"
      ]
     },
     "metadata": {
      "needs_background": "light"
     },
     "output_type": "display_data"
    }
   ],
   "source": [
    "import scipy.stats\n",
    "x = df['snr'].to_numpy()\n",
    "y = df['rating'].to_numpy()\n",
    "x[np.isinf(x)] = np.max(x[np.isfinite(x)])\n",
    "print(scipy.stats.pearsonr(x, y))\n",
    "plt.scatter(df['snr'], df['rating'])"
   ]
  },
  {
   "cell_type": "code",
   "execution_count": null,
   "id": "412f97fe",
   "metadata": {},
   "outputs": [],
   "source": []
  }
 ],
 "metadata": {
  "kernelspec": {
   "display_name": "Python 3 (ipykernel)",
   "language": "python",
   "name": "python3"
  },
  "language_info": {
   "codemirror_mode": {
    "name": "ipython",
    "version": 3
   },
   "file_extension": ".py",
   "mimetype": "text/x-python",
   "name": "python",
   "nbconvert_exporter": "python",
   "pygments_lexer": "ipython3",
   "version": "3.9.7"
  }
 },
 "nbformat": 4,
 "nbformat_minor": 5
}
