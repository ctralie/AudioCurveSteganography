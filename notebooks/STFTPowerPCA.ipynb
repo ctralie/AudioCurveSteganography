{
 "cells": [
  {
   "cell_type": "code",
   "execution_count": null,
   "id": "25e5cd9d",
   "metadata": {},
   "outputs": [],
   "source": [
    "%load_ext autoreload\n",
    "%autoreload 2\n",
    "import numpy as np\n",
    "import matplotlib.pyplot as plt\n",
    "import IPython.display as ipd\n",
    "\n",
    "import scipy.io as sio\n",
    "import librosa\n",
    "\n",
    "import time\n",
    "\n",
    "import skimage\n",
    "import skimage.io\n",
    "from skimage.transform import rescale\n",
    "\n",
    "from scipy.io import wavfile\n",
    "import os\n",
    "import subprocess\n",
    "\n",
    "import sys\n",
    "sys.path.append(\"../src\")\n",
    "from spectrogramtools import *\n",
    "from stego import *\n",
    "from swpowerstego import *\n",
    "from imtools import *\n",
    "from tsp import *\n",
    "from curvature import *"
   ]
  },
  {
   "cell_type": "code",
   "execution_count": null,
   "id": "ea101d0a",
   "metadata": {},
   "outputs": [],
   "source": [
    "# Image parameters\n",
    "thresh = 0.1\n",
    "p = 1\n",
    "canny_sigma = 3\n",
    "density_fac= 1\n",
    "edge_weight = 10\n",
    "target_points = 3000\n",
    "\n",
    "np.random.seed(0)\n",
    "I = skimage.io.imread(\"../data/images/usher.jpg\")\n",
    "\n",
    "X = voronoi_stipple(I, thresh, target_points=target_points, p=p, canny_sigma=canny_sigma, edge_weight=edge_weight, n_iters=10, do_plot=False)\n",
    "plt.figure(figsize=(10, 10))\n",
    "plt.scatter(X[:, 0], X[:, 1])"
   ]
  },
  {
   "cell_type": "code",
   "execution_count": null,
   "id": "54a31936",
   "metadata": {},
   "outputs": [],
   "source": [
    "#X = density_filter(X, fac=density_fac, k=2)\n",
    "X = get_tsp_tour(X)\n",
    "\n",
    "plt.figure(figsize=(16, 8))\n",
    "plt.subplot(121)\n",
    "plt.plot(X[:, 0], X[:, 1])\n",
    "plt.scatter(X[:, 0], X[:, 1])"
   ]
  },
  {
   "cell_type": "markdown",
   "id": "481b3eb0",
   "metadata": {},
   "source": [
    "## Load in audio and compute best target"
   ]
  },
  {
   "cell_type": "code",
   "execution_count": null,
   "id": "a3047b53",
   "metadata": {},
   "outputs": [],
   "source": [
    "# Audio parameters\n",
    "x, sr = librosa.load(\"../data/tunes/barry.mp3\", sr=44100)\n",
    "win_length = 512\n",
    "\n",
    "SX = stft_disjoint(x, win_length)\n",
    "SXM = np.abs(SX)\n",
    "plt.plot(np.sum(SXM, axis=1))"
   ]
  },
  {
   "cell_type": "code",
   "execution_count": null,
   "id": "bc5b3b40",
   "metadata": {
    "scrolled": false
   },
   "outputs": [],
   "source": [
    "# Sliding window parameters\n",
    "win = 800\n",
    "fit_lam = 1\n",
    "q = -1\n",
    "min_freq = 100\n",
    "max_freq = 8000\n",
    "\n",
    "sp = STFTPowerDisjointPCA(x, X, sr, win_length, min_freq, max_freq, win, fit_lam, q)\n",
    "\n",
    "\n",
    "plt.figure()\n",
    "plt.plot(sp.path)\n",
    "\n",
    "sp.plot()\n",
    "\n",
    "sp.solve(use_constraints=False)\n",
    "sp.plot(normalize=True)\n",
    "y = sp.reconstruct_signal()\n",
    "print(\"SNR\", get_snr(x, y))\n",
    "ipd.Audio(y, rate=sr)"
   ]
  },
  {
   "cell_type": "code",
   "execution_count": null,
   "id": "07376104",
   "metadata": {
    "scrolled": false
   },
   "outputs": [],
   "source": [
    "prefix = \"SpecPCA_Win{}_fit{:.3g}_stftwin{}_q{}_fmin{}_fmax{}\".format(win, fit_lam, win_length, q, min_freq, max_freq)\n",
    "filename = \"{}.mp3\".format(prefix)\n",
    "wavfile.write(\"out.wav\", sr, y)\n",
    "if os.path.exists(filename):\n",
    "    os.remove(filename)\n",
    "subprocess.call(\"ffmpeg -i out.wav\".split() + [filename], stdout=subprocess.DEVNULL, stderr=subprocess.STDOUT)\n",
    "os.remove(\"out.wav\")\n",
    "\n",
    "z, sr = librosa.load(filename, sr=sr)\n",
    "#z = z[100::]\n",
    "z_sp = STFTPowerDisjointPCA(z, X, sr, win_length, min_freq, max_freq, win, fit_lam, q)\n",
    "z_sp.targets = sp.targets\n",
    "snr = get_snr(x, z)\n",
    "distortion = z_sp.get_distortion()[0]\n",
    "ratio = snr/distortion\n",
    "\n",
    "title = \"snr = {:.3f}, distortion = {:.3f}\".format(snr, distortion)\n",
    "\n",
    "plt.figure(figsize=(6, 6))\n",
    "z_sp.plot(True, title)\n",
    "plt.tight_layout()\n",
    "plt.savefig(\"{}.png\".format(prefix), facecolor='white')\n",
    "\n"
   ]
  },
  {
   "cell_type": "code",
   "execution_count": null,
   "id": "9e32bdce",
   "metadata": {},
   "outputs": [],
   "source": [
    "\"\"\"\n",
    "from scipy.spatial import ConvexHull, convex_hull_plot_2d\n",
    "\n",
    "Z = z_sp.get_signal(True)\n",
    "#Z[:, 1] *= -1\n",
    "\n",
    "s = get_arclen(get_curv_vectors(Z, 0, 1, loop=True)[1])\n",
    "Z = arclen_resample(Z, s, Z.shape[0])\n",
    "sigma = 0.5\n",
    "Z = get_curv_vectors(Z, 0, sigma, loop=True)[0]\n",
    "\n",
    "\n",
    "hull = ConvexHull(Z)\n",
    "ZHull = Z[hull.vertices, :]\n",
    "\n",
    "plt.figure(figsize=(10, 10))\n",
    "plt.scatter(Z[:, 0], Z[:, 1])\n",
    "plt.plot(Z[:, 0], Z[:, 1])\n",
    "plt.plot(ZHull[:, 0], ZHull[:, 1])\n",
    "plt.axis(\"equal\")\n",
    "\"\"\""
   ]
  },
  {
   "cell_type": "code",
   "execution_count": null,
   "id": "ff1cc95d",
   "metadata": {},
   "outputs": [],
   "source": [
    "Y = z_sp.get_target(normalize=True)\n",
    "Y = Y - np.mean(Y, axis=0)[None, :]\n",
    "\n",
    "\n",
    "ZRot, min_d = z_sp.get_transformed_distortion()\n",
    "print(min_d)\n",
    "plt.figure(figsize=(16, 8))\n",
    "plt.subplot(121)\n",
    "plt.scatter(Y[:, 0], Y[:, 1])\n",
    "plt.axis(\"equal\")\n",
    "plt.title(\"Length = {:.3f}\".format(get_length(Y)))\n",
    "plt.subplot(122)\n",
    "plt.scatter(ZRot[:, 0], ZRot[:, 1])\n",
    "plt.axis(\"equal\")\n",
    "plt.title(\"Length = {:.3f}\".format(get_length(ZRot)))"
   ]
  },
  {
   "cell_type": "code",
   "execution_count": null,
   "id": "0893c5b8",
   "metadata": {},
   "outputs": [],
   "source": []
  },
  {
   "cell_type": "code",
   "execution_count": null,
   "id": "e3793c51",
   "metadata": {},
   "outputs": [],
   "source": []
  }
 ],
 "metadata": {
  "kernelspec": {
   "display_name": "Python 3 (ipykernel)",
   "language": "python",
   "name": "python3"
  },
  "language_info": {
   "codemirror_mode": {
    "name": "ipython",
    "version": 3
   },
   "file_extension": ".py",
   "mimetype": "text/x-python",
   "name": "python",
   "nbconvert_exporter": "python",
   "pygments_lexer": "ipython3",
   "version": "3.9.7"
  }
 },
 "nbformat": 4,
 "nbformat_minor": 5
}
