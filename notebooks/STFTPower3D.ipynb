{
 "cells": [
  {
   "cell_type": "code",
   "execution_count": null,
   "id": "25e5cd9d",
   "metadata": {},
   "outputs": [],
   "source": [
    "%load_ext autoreload\n",
    "%autoreload 2\n",
    "import numpy as np\n",
    "import matplotlib.pyplot as plt\n",
    "import IPython.display as ipd\n",
    "\n",
    "import scipy.io as sio\n",
    "import librosa\n",
    "\n",
    "import time\n",
    "\n",
    "import skimage\n",
    "import skimage.io\n",
    "from skimage.transform import rescale\n",
    "\n",
    "from scipy.io import wavfile\n",
    "import os\n",
    "import subprocess\n",
    "\n",
    "import sys\n",
    "sys.path.append(\"../src\")\n",
    "from spectrogramtools import *\n",
    "from stego import *\n",
    "from swpowerstego import *\n",
    "from trimesh import *\n"
   ]
  },
  {
   "cell_type": "code",
   "execution_count": null,
   "id": "54a31936",
   "metadata": {},
   "outputs": [],
   "source": [
    "VPos, _, ITris = load_off(\"../data/meshseg/391.off\")\n",
    "X = get_hamiltonian_cycle(VPos, ITris)\n",
    "X = X[:, [2, 1, 0]]\n",
    "plt.plot(X[:, 0], X[:, 1])\n",
    "plt.axis(\"equal\")"
   ]
  },
  {
   "cell_type": "markdown",
   "id": "481b3eb0",
   "metadata": {},
   "source": [
    "## Load in audio and compute best target"
   ]
  },
  {
   "cell_type": "code",
   "execution_count": null,
   "id": "bbb9558b",
   "metadata": {},
   "outputs": [],
   "source": [
    "# Audio parameters\n",
    "x, sr = librosa.load(\"../data/tunes/cowtown.mp3\", sr=44100)\n",
    "win_length = 1024\n",
    "SX = stft_disjoint(x, win_length)\n",
    "SX = np.abs(SX)\n",
    "plt.figure(figsize=(12, 12))\n",
    "plt.subplot(211)\n",
    "plt.imshow(SX, aspect='auto')\n",
    "plt.subplot(212)\n",
    "plt.plot(np.sum(SX, axis=1))\n",
    "plt.scatter(np.arange(SX.shape[0]), np.sum(SX, axis=1))"
   ]
  },
  {
   "cell_type": "code",
   "execution_count": null,
   "id": "bc5b3b40",
   "metadata": {
    "scrolled": false
   },
   "outputs": [],
   "source": [
    "freq_idxs = [6, 11, 18]\n",
    "print([int(fi*sr/win_length) for fi in freq_idxs])\n",
    "\n",
    "# Sliding window parameters\n",
    "win = 32\n",
    "fit_lam = 1\n",
    "q = -1\n",
    "\n",
    "max_ratio = 0\n",
    "\n",
    "sp = STFTPowerDisjoint(x, X, win_length, freq_idxs, win, fit_lam, q, viterbi_iters=4)\n",
    "sp.plot(normalize=False)\n",
    "\n",
    "sp.solve()\n",
    "sp.plot(normalize=True)"
   ]
  },
  {
   "cell_type": "code",
   "execution_count": null,
   "id": "6069e9e2",
   "metadata": {},
   "outputs": [],
   "source": [
    "y = sp.reconstruct_signal()\n",
    "ipd.Audio(y, rate=sr)"
   ]
  },
  {
   "cell_type": "code",
   "execution_count": null,
   "id": "07376104",
   "metadata": {},
   "outputs": [],
   "source": [
    "prefix = \"SpecPower_Win{}_fit{:.3g}_stftwin{}_freqs{}_{}_q{}\".format(win, fit_lam, win_length, freq_idxs[0], freq_idxs[1], q)\n",
    "filename = \"{}.mp3\".format(prefix)\n",
    "wavfile.write(\"out.wav\", sr, y)\n",
    "if os.path.exists(filename):\n",
    "    os.remove(filename)\n",
    "subprocess.call(\"ffmpeg -i out.wav\".split() + [filename], stdout=subprocess.DEVNULL, stderr=subprocess.STDOUT)\n",
    "os.remove(\"out.wav\")\n",
    "\n",
    "z, sr = librosa.load(filename, sr=sr)\n",
    "z_sp = STFTPowerDisjoint(z, X, win_length, freq_idxs, win, fit_lam, q)\n",
    "z_sp.MagSolver.targets = [x for x in sp.MagSolver.targets]\n",
    "snr = get_snr(x, z)\n",
    "distortion = z_sp.get_distortion()[0]\n",
    "ratio = snr/distortion\n",
    "\n",
    "fhz = [fi*sr/win_length for fi in freq_idxs]\n",
    "title = \"snr = {:.3f}, distortion = {:.3f}, f1 = {:.1f} hz, f2 = {:.1f}hz\".format(snr, distortion, fhz[0], fhz[1])\n",
    "\n",
    "plt.figure(figsize=(6, 6))\n",
    "z_sp.plot(True, title)\n",
    "plt.tight_layout()\n",
    "plt.savefig(\"{}.png\".format(prefix), facecolor='white')\n"
   ]
  },
  {
   "cell_type": "code",
   "execution_count": null,
   "id": "0355c48f",
   "metadata": {},
   "outputs": [],
   "source": [
    "import polyscope as ps\n",
    "ps.init()\n",
    "\n",
    "Z = z_sp.get_signal()\n",
    "N = Z.shape[0]\n",
    "edges = np.zeros((N-1, 2))\n",
    "edges[:, 0] = np.arange(N-1)\n",
    "edges[:, 1] = np.arange(1, N)\n",
    "ps.init()\n",
    "ps.register_curve_network(\"hamcycle\", Z, edges)\n",
    "ps.show()"
   ]
  },
  {
   "cell_type": "code",
   "execution_count": null,
   "id": "1f76da1b",
   "metadata": {},
   "outputs": [],
   "source": []
  }
 ],
 "metadata": {
  "kernelspec": {
   "display_name": "Python 3 (ipykernel)",
   "language": "python",
   "name": "python3"
  },
  "language_info": {
   "codemirror_mode": {
    "name": "ipython",
    "version": 3
   },
   "file_extension": ".py",
   "mimetype": "text/x-python",
   "name": "python",
   "nbconvert_exporter": "python",
   "pygments_lexer": "ipython3",
   "version": "3.9.7"
  }
 },
 "nbformat": 4,
 "nbformat_minor": 5
}
