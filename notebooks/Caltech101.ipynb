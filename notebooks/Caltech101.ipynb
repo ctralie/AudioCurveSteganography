{
 "cells": [
  {
   "cell_type": "markdown",
   "id": "640d7f13",
   "metadata": {},
   "source": [
    "## Caltech 101 Preprocessing\n",
    "\n",
    "A notebook to precompute all of the TSP tours on the caltech-101 dataset"
   ]
  },
  {
   "cell_type": "code",
   "execution_count": null,
   "id": "25e5cd9d",
   "metadata": {},
   "outputs": [],
   "source": [
    "%load_ext autoreload\n",
    "%autoreload 2\n",
    "#%matplotlib notebook\n",
    "import numpy as np\n",
    "import matplotlib.pyplot as plt\n",
    "\n",
    "import glob\n",
    "import skimage\n",
    "import skimage.io\n",
    "from skimage.transform import rescale\n",
    "import scipy.io as sio\n",
    "import os\n",
    "from multiprocessing import Pool\n",
    "\n",
    "import sys\n",
    "sys.path.append(\"../src\")\n",
    "from imtools import *\n",
    "from tsp import *\n",
    "from curvature import *"
   ]
  },
  {
   "cell_type": "code",
   "execution_count": null,
   "id": "1fecfbb8",
   "metadata": {},
   "outputs": [],
   "source": [
    "filepaths = glob.glob(\"../data/caltech-101/*/*.jpg\")\n",
    "print(len(filepaths))"
   ]
  },
  {
   "cell_type": "code",
   "execution_count": null,
   "id": "ea101d0a",
   "metadata": {},
   "outputs": [],
   "source": [
    "# Image parameters\n",
    "thresh = 0.1\n",
    "p = 1\n",
    "edge_weight = 10\n",
    "canny_sigma = 3\n",
    "density_fac=1\n",
    "target_points = 2000\n",
    "n_threads = 10\n",
    "\n",
    "plt.figure(figsize=(10, 10))\n",
    "\n",
    "def process_file(f):\n",
    "    fmat = f[0:-4] + \".mat\"\n",
    "    if not os.path.exists(fmat):\n",
    "        print(f)\n",
    "        I = skimage.io.imread(f)\n",
    "        X = voronoi_stipple(I, thresh, target_points=target_points, p=p, canny_sigma=canny_sigma, edge_weight=edge_weight, n_iters=10, do_plot=False)\n",
    "        if X.size > 0:\n",
    "            X = get_tsp_tour(X)\n",
    "            plt.clf()\n",
    "            plt.plot(X[:, 0], X[:, 1])\n",
    "            plt.scatter(X[:, 0], X[:, 1])\n",
    "            plt.savefig(f[0:-4] + \"_tsp.png\")\n",
    "            sio.savemat(fmat, {\"X\":X})\n",
    "\n",
    "parpool = Pool(n_threads)\n",
    "parpool.map(process_file, filepaths)"
   ]
  },
  {
   "cell_type": "code",
   "execution_count": null,
   "id": "85c46471",
   "metadata": {},
   "outputs": [],
   "source": []
  }
 ],
 "metadata": {
  "kernelspec": {
   "display_name": "Python 3 (ipykernel)",
   "language": "python",
   "name": "python3"
  },
  "language_info": {
   "codemirror_mode": {
    "name": "ipython",
    "version": 3
   },
   "file_extension": ".py",
   "mimetype": "text/x-python",
   "name": "python",
   "nbconvert_exporter": "python",
   "pygments_lexer": "ipython3",
   "version": "3.9.7"
  }
 },
 "nbformat": 4,
 "nbformat_minor": 5
}
