{
 "cells": [
  {
   "cell_type": "markdown",
   "id": "98e9bed1",
   "metadata": {},
   "source": [
    "# Voronoi Image\n",
    "Demo the Voronoi image code"
   ]
  },
  {
   "cell_type": "code",
   "execution_count": null,
   "id": "adjusted-major",
   "metadata": {},
   "outputs": [],
   "source": [
    "%load_ext snakeviz\n",
    "%load_ext autoreload\n",
    "%autoreload 2\n",
    "import numpy as np\n",
    "import matplotlib.pyplot as plt\n",
    "import IPython.display as ipd\n",
    "import skimage.io\n",
    "import time\n",
    "\n",
    "import sys\n",
    "sys.path.append(\"../src\")\n",
    "from imtools import get_voronoi_image"
   ]
  },
  {
   "cell_type": "code",
   "execution_count": null,
   "id": "2dece28d",
   "metadata": {},
   "outputs": [],
   "source": [
    "## Parameters\n",
    "device = 'cuda'\n",
    "n_points = 5000\n",
    "n_iters = 100\n",
    "I = skimage.io.imread(\"../data/images/layla.png\")\n",
    "print(\"Compression ratio\", I.shape[0]*I.shape[1]/n_points)"
   ]
  },
  {
   "cell_type": "code",
   "execution_count": null,
   "id": "8214b7f3",
   "metadata": {
    "scrolled": false
   },
   "outputs": [],
   "source": [
    "tic = time.time()\n",
    "J, xy, rgb, final_cost = get_voronoi_image(I, device, n_points, n_neighbs=2, n_iters=n_iters, \n",
    "                                           verbose=True, plot_iter_interval=0, use_lsqr=False)\n",
    "print(\"Elapsed Time: {:.3f}\".format(time.time()-tic))\n",
    "plt.imshow(J)\n",
    "plt.title(\"Final cost {:.3f}\".format(final_cost))\n",
    "plt.savefig(\"Final.png\", bbox_inches='tight')"
   ]
  },
  {
   "cell_type": "code",
   "execution_count": null,
   "id": "dbf0fdd1",
   "metadata": {},
   "outputs": [],
   "source": []
  }
 ],
 "metadata": {
  "kernelspec": {
   "display_name": "Python 3 (ipykernel)",
   "language": "python",
   "name": "python3"
  },
  "language_info": {
   "codemirror_mode": {
    "name": "ipython",
    "version": 3
   },
   "file_extension": ".py",
   "mimetype": "text/x-python",
   "name": "python",
   "nbconvert_exporter": "python",
   "pygments_lexer": "ipython3",
   "version": "3.10.9"
  }
 },
 "nbformat": 4,
 "nbformat_minor": 5
}
