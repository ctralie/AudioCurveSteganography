{
 "cells": [
  {
   "cell_type": "markdown",
   "id": "98e9bed1",
   "metadata": {},
   "source": [
    "# Voronoi Image\n",
    "Demo the Voronoi image code"
   ]
  },
  {
   "cell_type": "code",
   "execution_count": null,
   "id": "adjusted-major",
   "metadata": {},
   "outputs": [],
   "source": [
    "%load_ext autoreload\n",
    "%autoreload 2\n",
    "import numpy as np\n",
    "import matplotlib.pyplot as plt\n",
    "import IPython.display as ipd\n",
    "import skimage.io\n",
    "\n",
    "import sys\n",
    "sys.path.append(\"../src\")\n",
    "from imtools import get_voronoi_image"
   ]
  },
  {
   "cell_type": "code",
   "execution_count": null,
   "id": "2dece28d",
   "metadata": {},
   "outputs": [],
   "source": [
    "## Parameters\n",
    "device = 'cuda'\n",
    "n_points = 3000\n",
    "n_iters = 100\n",
    "I = skimage.io.imread(\"../data/images/layla.png\")\n",
    "J, xy, rgb = get_voronoi_image(I, device, n_points, n_iters=n_iters, verbose=True, plot_iter_interval=1)"
   ]
  },
  {
   "cell_type": "code",
   "execution_count": null,
   "id": "8214b7f3",
   "metadata": {},
   "outputs": [],
   "source": []
  }
 ],
 "metadata": {
  "kernelspec": {
   "display_name": "Python 3 (ipykernel)",
   "language": "python",
   "name": "python3"
  },
  "language_info": {
   "codemirror_mode": {
    "name": "ipython",
    "version": 3
   },
   "file_extension": ".py",
   "mimetype": "text/x-python",
   "name": "python",
   "nbconvert_exporter": "python",
   "pygments_lexer": "ipython3",
   "version": "3.10.9"
  }
 },
 "nbformat": 4,
 "nbformat_minor": 5
}
