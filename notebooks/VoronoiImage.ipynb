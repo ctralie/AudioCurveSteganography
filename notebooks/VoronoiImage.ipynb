{
 "cells": [
  {
   "cell_type": "markdown",
   "id": "98e9bed1",
   "metadata": {},
   "source": [
    "# Voronoi Image\n",
    "Demo the Voronoi image code"
   ]
  },
  {
   "cell_type": "code",
   "execution_count": null,
   "id": "adjusted-major",
   "metadata": {},
   "outputs": [],
   "source": [
    "%load_ext snakeviz\n",
    "%load_ext autoreload\n",
    "%autoreload 2\n",
    "import numpy as np\n",
    "import matplotlib.pyplot as plt\n",
    "import IPython.display as ipd\n",
    "import skimage.io\n",
    "import time\n",
    "import torch\n",
    "import glob\n",
    "\n",
    "import sys\n",
    "sys.path.append(\"../src\")\n",
    "from imtools import get_voronoi_image\n",
    "from tsp import *"
   ]
  },
  {
   "cell_type": "code",
   "execution_count": null,
   "id": "2dece28d",
   "metadata": {},
   "outputs": [],
   "source": [
    "## Parameters\n",
    "device = 'cpu'\n",
    "n_points = 3000\n",
    "n_iters = 100\n",
    "#I = skimage.io.imread(\"../data/images/layla.png\")\n",
    "I = skimage.io.imread(\"../data/imagenet/n01496331/n01496331_11242.JPEG\")\n",
    "N = min(I.shape[0], I.shape[1])\n",
    "I = I[0:N, 0:N, ...]\n",
    "plt.imshow(I)\n",
    "print(\"Compression ratio\", I.shape[0]*I.shape[1]/n_points)"
   ]
  },
  {
   "cell_type": "code",
   "execution_count": null,
   "id": "8214b7f3",
   "metadata": {},
   "outputs": [],
   "source": [
    "tic = time.time()\n",
    "J, X, final_cost = get_voronoi_image(I, device, n_points, n_neighbs=2, n_iters=n_iters, verbose=False, plot_iter_interval=0, use_lsqr=False)\n",
    "print(\"X.shape\", X.shape)\n",
    "rmse = np.sqrt(final_cost/I.size)\n",
    "print(\"Elapsed Time: {:.3f}\".format(time.time()-tic))\n",
    "plt.imshow(J)\n",
    "plt.title(\"Final cost {:.3f}, RMSE: {:.3f}\".format(final_cost, rmse*255))\n",
    "plt.savefig(\"Final.png\", bbox_inches='tight')"
   ]
  },
  {
   "cell_type": "code",
   "execution_count": null,
   "id": "dbf0fdd1",
   "metadata": {},
   "outputs": [],
   "source": [
    "tic = time.time()\n",
    "Y = get_tsp_tour(X)\n",
    "print(\"Elapsed time: {:.3f}\".format(time.time()-tic))"
   ]
  },
  {
   "cell_type": "code",
   "execution_count": null,
   "id": "3653bc8c",
   "metadata": {},
   "outputs": [],
   "source": [
    "from scipy.spatial import KDTree\n",
    "\n",
    "M = I.shape[0]\n",
    "N = I.shape[1]\n",
    "xpix, ypix = np.meshgrid(np.linspace(0, 1, N), np.linspace(0, 1, M), indexing='xy')\n",
    "xpix = xpix.flatten()\n",
    "ypix = ypix.flatten()\n",
    "X = np.array([xpix, ypix]).T\n",
    "\n",
    "gridtree = KDTree(X)\n",
    "\n",
    "plt.figure(figsize=(8, 8))\n",
    "plot_idx = 0\n",
    "for i in range(Y.shape[0] + 500):\n",
    "    plot_point = True\n",
    "    if i >= Y.shape[0]:\n",
    "        plot_point = False\n",
    "    plt.clf()\n",
    "    i = min(i, Y.shape[0]-1)\n",
    "    tree = KDTree(Y[0:i+1, 0:2])\n",
    "    _, idx = tree.query(X, k=1) # Nearest landmark indices to pixels\n",
    "    idx = idx.flatten()\n",
    "    J = Y[idx, 2::]\n",
    "    J = np.reshape(J, I.shape)\n",
    "    plt.imshow(J)\n",
    "    # Nearest pixel to point at index\n",
    "    if plot_point:\n",
    "        _, idx = gridtree.query([Y[i, 0:2]])\n",
    "        idx = idx.flatten()[0]\n",
    "        plt.scatter(xpix[idx]*N, ypix[idx]*M)\n",
    "    plt.savefig(\"TSP{}.png\".format(plot_idx))\n",
    "    plot_idx += 1"
   ]
  },
  {
   "cell_type": "code",
   "execution_count": null,
   "id": "7c8cdf3b",
   "metadata": {},
   "outputs": [],
   "source": []
  }
 ],
 "metadata": {
  "kernelspec": {
   "display_name": "Python 3 (ipykernel)",
   "language": "python",
   "name": "python3"
  },
  "language_info": {
   "codemirror_mode": {
    "name": "ipython",
    "version": 3
   },
   "file_extension": ".py",
   "mimetype": "text/x-python",
   "name": "python",
   "nbconvert_exporter": "python",
   "pygments_lexer": "ipython3",
   "version": "3.10.9"
  }
 },
 "nbformat": 4,
 "nbformat_minor": 5
}
