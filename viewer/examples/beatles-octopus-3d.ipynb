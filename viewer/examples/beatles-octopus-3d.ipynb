{
 "cells": [
  {
   "cell_type": "code",
   "execution_count": null,
   "id": "25e5cd9d",
   "metadata": {},
   "outputs": [],
   "source": [
    "%load_ext autoreload\n",
    "%autoreload 2\n",
    "import numpy as np\n",
    "import matplotlib.pyplot as plt\n",
    "import IPython.display as ipd\n",
    "\n",
    "import scipy.io as sio\n",
    "import librosa\n",
    "\n",
    "import time\n",
    "\n",
    "import skimage\n",
    "import skimage.io\n",
    "from skimage.transform import rescale\n",
    "\n",
    "from scipy.io import wavfile\n",
    "import os\n",
    "import subprocess\n",
    "\n",
    "import sys\n",
    "sys.path.append(\"../../src\")\n",
    "from spectrogramtools import *\n",
    "from stego import *\n",
    "from swpowerstego import *\n",
    "from trimesh import *\n",
    "from curvature import *"
   ]
  },
  {
   "cell_type": "code",
   "execution_count": null,
   "id": "54a31936",
   "metadata": {},
   "outputs": [],
   "source": [
    "VPos, _, ITris = load_off(\"../../data/meshseg/125.off\")\n",
    "X = get_hamiltonian_cycle(VPos, ITris, blossom_path=\"../../blossom5\")\n",
    "X = X[:, [2, 1, 0]]\n",
    "\n",
    "plt.figure(figsize=(12, 6))\n",
    "plt.subplot(121)\n",
    "plt.plot(X[:, 0], X[:, 1])\n",
    "plt.axis(\"equal\")\n",
    "\n",
    "\n",
    "s = get_arclen(get_curv_vectors(X, 0, 1, loop=True)[1])\n",
    "X = arclen_resample(X, s, X.shape[0])\n",
    "sigma = 1\n",
    "X = get_curv_vectors(X, 0, sigma, loop=True)[0]\n",
    "plt.subplot(122)\n",
    "plt.plot(X[:, 0], X[:, 1])\n",
    "plt.axis(\"equal\")"
   ]
  },
  {
   "cell_type": "markdown",
   "id": "481b3eb0",
   "metadata": {},
   "source": [
    "## Load in audio and compute best target"
   ]
  },
  {
   "cell_type": "code",
   "execution_count": null,
   "id": "bc5b3b40",
   "metadata": {
    "scrolled": false
   },
   "outputs": [],
   "source": [
    "x, sr = librosa.load(\"../../data/tunes/octopus.mp3\", sr=44100)\n",
    "win_length = 1024\n",
    "LT = 64\n",
    "\n",
    "mag_idxs = [1, 2, 3]\n",
    "print([int(fi*sr/win_length) for fi in mag_idxs])\n",
    "phase_idxs = mag_idxs\n",
    "\n",
    "# Sliding window parameters\n",
    "win = 16\n",
    "fit_lam = 0.5\n",
    "q = -1\n",
    "\n",
    "max_ratio = 0\n",
    "\n",
    "sp = STFTPowerDisjoint(x, X, win_length, mag_idxs, phase_idxs, win, fit_lam, q, do_viterbi=True, LT=LT)\n",
    "sp.plot(normalize=False)\n",
    "\n",
    "sp.solve()\n",
    "sp.plot(normalize=True)"
   ]
  },
  {
   "cell_type": "code",
   "execution_count": null,
   "id": "6069e9e2",
   "metadata": {},
   "outputs": [],
   "source": [
    "y = sp.reconstruct_signal()\n",
    "ipd.Audio(y, rate=sr)"
   ]
  },
  {
   "cell_type": "code",
   "execution_count": null,
   "id": "07376104",
   "metadata": {},
   "outputs": [],
   "source": [
    "prefix = \"beatles-octopus-3d\"\n",
    "filename = \"{}.mp3\".format(prefix)\n",
    "wavfile.write(\"out.wav\", sr, y)\n",
    "if os.path.exists(filename):\n",
    "    os.remove(filename)\n",
    "subprocess.call(\"ffmpeg -i out.wav\".split() + [filename], stdout=subprocess.DEVNULL, stderr=subprocess.STDOUT)\n",
    "os.remove(\"out.wav\")\n",
    "\n",
    "z, sr = librosa.load(filename, sr=sr)\n",
    "z_sp = STFTPowerDisjoint(z, X, win_length, mag_idxs, phase_idxs, win, fit_lam, q, LT=LT)\n",
    "z_sp.MagSolver.targets = [x for x in sp.MagSolver.targets]\n",
    "snr = get_snr(x, z)\n",
    "distortion = z_sp.get_distortion()[0]\n",
    "ratio = snr/distortion\n",
    "\n",
    "fhz = [fi*sr/win_length for fi in mag_idxs]\n",
    "title = \"snr = {:.3f}, distortion = {:.3f}\".format(snr, distortion)\n",
    "\n",
    "plt.figure(figsize=(6, 6))\n",
    "z_sp.plot(True, title)\n",
    "plt.tight_layout()\n",
    "plt.savefig(\"{}.png\".format(prefix), facecolor='white')\n"
   ]
  },
  {
   "cell_type": "code",
   "execution_count": null,
   "id": "1afc33a6",
   "metadata": {},
   "outputs": [],
   "source": []
  }
 ],
 "metadata": {
  "kernelspec": {
   "display_name": "Python 3 (ipykernel)",
   "language": "python",
   "name": "python3"
  },
  "language_info": {
   "codemirror_mode": {
    "name": "ipython",
    "version": 3
   },
   "file_extension": ".py",
   "mimetype": "text/x-python",
   "name": "python",
   "nbconvert_exporter": "python",
   "pygments_lexer": "ipython3",
   "version": "3.11.3"
  }
 },
 "nbformat": 4,
 "nbformat_minor": 5
}
