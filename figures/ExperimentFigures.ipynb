{
 "cells": [
  {
   "cell_type": "code",
   "execution_count": 1,
   "id": "f9ac8e79",
   "metadata": {},
   "outputs": [],
   "source": [
    "import numpy as np\n",
    "import matplotlib.pyplot as plt\n",
    "import pandas as pd\n",
    "import seaborn as sns\n",
    "import glob"
   ]
  },
  {
   "cell_type": "code",
   "execution_count": 6,
   "id": "3d9b0973",
   "metadata": {},
   "outputs": [
    {
     "name": "stdout",
     "output_type": "stream",
     "text": [
      "1000\n"
     ]
    }
   ],
   "source": [
    "d = {'win':[], 'fit_lam':[], 'do_viterbi':[], \n",
    "     'snr_before':[], 'distortion_before':[], 'length_before':[], \n",
    "     'snr':[], 'distortion':[], 'orig_length':[], \n",
    "     'path_filename':[],\n",
    "     'length':[], 'elapsed':[]}\n",
    "\n",
    "description = \"Caltech-101 in GTzan\"\n",
    "fileprefix = \"Caltech101GTzan\"\n",
    "keys = ['win', 'fit_lam', 'do_viterbi', 'snr_before', 'distortion_before', 'length_before', 'snr', 'distortion', 'length', 'elapsed']\n",
    "filename = \"\"\n",
    "orig_length = 0\n",
    "files = glob.glob(\"../results/LowFreq_Final/*.txt\")# + glob.glob(\"../results/LowFreq2/*.txt\")\n",
    "files = [f for f in files if not \"3D\" in f]\n",
    "print(len(files))\n",
    "for f in files:\n",
    "    fin = open(f)\n",
    "    for line in fin.readlines():\n",
    "        fields = line.split()\n",
    "        if len(fields) == 2:\n",
    "            filename = fields[0]\n",
    "            orig_length = float(fields[1])\n",
    "        else:\n",
    "            for key, f in zip(keys, fields):\n",
    "                if f == 'False':\n",
    "                    f = 0\n",
    "                elif f == 'True':\n",
    "                    f = 1\n",
    "                else:\n",
    "                    f = float(f)\n",
    "                d[key].append(f)\n",
    "            d['path_filename'].append(filename)\n",
    "            d['orig_length'].append(orig_length)\n",
    "    fin.close()\n",
    "for key in d:\n",
    "    d[key] = np.array(d[key])"
   ]
  },
  {
   "cell_type": "code",
   "execution_count": 7,
   "id": "5b044ffa",
   "metadata": {},
   "outputs": [],
   "source": [
    "for key in ['snr', 'length', 'distortion']:\n",
    "    key2 = \"{}_diff\".format(key)\n",
    "    d[key2] = np.zeros(len(d[key]))\n",
    "    d[key2][0::2] = d[key][1::2]-d[key][0::2]\n",
    "    d[key2][1::2] = d[key2][0::2]\n",
    "d['length_ratio'] =  d['length']/d['orig_length']"
   ]
  },
  {
   "cell_type": "code",
   "execution_count": 8,
   "id": "35754319",
   "metadata": {},
   "outputs": [
    {
     "name": "stdout",
     "output_type": "stream",
     "text": [
      "[ 0.1  1.  10. ]\n"
     ]
    }
   ],
   "source": [
    "df = pd.DataFrame(data=d)\n",
    "fit_lams = np.unique(df[['fit_lam']])\n",
    "print(fit_lams)\n",
    "wins = np.unique(df[['win']])\n",
    "wins = np.array(wins, dtype=int)\n",
    "\n",
    "c = plt.cm.Accent\n",
    "palette = {0.1:0.8*np.array(list(c.colors[0])),\n",
    "          1.0:0.95*np.array(list(c.colors[1])),\n",
    "          10.0:np.minimum(1, np.array(list(c.colors[2]))*1.1),\n",
    "          np.inf:np.array(list(c.colors[3]))}"
   ]
  },
  {
   "cell_type": "markdown",
   "id": "820613b5",
   "metadata": {},
   "source": [
    "# Viterbi Distortion"
   ]
  },
  {
   "cell_type": "code",
   "execution_count": null,
   "id": "76ec69f4",
   "metadata": {
    "scrolled": false
   },
   "outputs": [],
   "source": [
    "c = plt.cm.Accent\n",
    "fit_lam_palette = {0.1:0.8*np.array(list(c.colors[0])),\n",
    "          1.0:0.95*np.array(list(c.colors[1])),\n",
    "          10.0:np.minimum(1, np.array(list(c.colors[2]))*1.1),\n",
    "          np.inf:np.array(list(c.colors[3]))}\n",
    "df2 = df.loc[df['win'] == 16]\n",
    "fac = 0.65\n",
    "plt.figure(figsize=(fac*18, fac*3))\n",
    "win = 16\n",
    "plt.subplot(121)\n",
    "sns.histplot(df2, x=\"distortion_diff\", hue=\"fit_lam\", palette=palette, element=\"step\", fill=False)\n",
    "plt.title(\"{} Distortion Difference, $\\ell$={}\".format(description, win))\n",
    "legend = []\n",
    "key_str = {0.1:\"0.1  \", 1:\"1.0  \", 10:\"10.0\"}\n",
    "for fit_lam in fit_lams:\n",
    "    mu = np.median(df2.loc[df2['fit_lam'] == fit_lam]['distortion_diff'])\n",
    "    sgn = \" -\"\n",
    "    if mu > 0:\n",
    "        sgn = \"+\"\n",
    "    legend.append(\"$\\\\lambda=${} (Med {}{:.3f})\".format(key_str[fit_lam], sgn, np.abs(mu)))\n",
    "plt.legend(legend[::-1])\n",
    "plt.xlabel(\"Distortion Using Viterbi - Distortion Not Using Viterbi\")\n",
    "plt.ylabel(\"Counts\")\n",
    "\n",
    "plt.subplot(122)\n",
    "sns.histplot(df2, x=\"snr_diff\", hue=\"fit_lam\", palette=palette, element=\"step\", fill=False)\n",
    "plt.title(\"{} in GTzan SNR Difference, $\\ell$={}\".format(description, win))\n",
    "legend = []\n",
    "for fit_lam in fit_lams:\n",
    "    mu = np.median(df2.loc[df2['fit_lam'] == fit_lam]['snr_diff'])\n",
    "    sgn = \" -\"\n",
    "    if mu > 0:\n",
    "        sgn = \"+\"\n",
    "    legend.append(\"$\\\\lambda=${} (Med {}{:.3f} dB)\".format(key_str[fit_lam], sgn, np.abs(mu)))\n",
    "plt.legend(legend[::-1])\n",
    "plt.xlabel(\"SNR (dB) Using Viterbi - SNR (dB) Not Using Viterbi\")\n",
    "plt.ylabel(\"Counts\")\n",
    "plt.savefig(\"{}ViterbiExperiment.svg\".format(fileprefix), bbox_inches='tight')"
   ]
  },
  {
   "cell_type": "markdown",
   "id": "225c8762",
   "metadata": {},
   "source": [
    "# Fixing Lambda, Varying Window"
   ]
  },
  {
   "cell_type": "code",
   "execution_count": null,
   "id": "c9c2ddae",
   "metadata": {
    "scrolled": false
   },
   "outputs": [],
   "source": [
    "lam = 0.1\n",
    "df2 = df.loc[(df['fit_lam'] == lam)*(df['do_viterbi'] == 1)]\n",
    "c = plt.cm.Accent\n",
    "\n",
    "fac = 0.65\n",
    "plt.figure(figsize=(fac*22, fac*4))\n",
    "win = 16\n",
    "plt.subplot(121)\n",
    "sns.histplot(df2, x=\"distortion\", hue=\"win\", element=\"step\", fill=False, binrange=[0, 0.3], binwidth=0.001)\n",
    "plt.title(\"{} Distortion vs Window Length $\\ell$, $\\\\lambda$={}\".format(description, lam))\n",
    "legend = []\n",
    "for win in wins:\n",
    "    mu = np.median(df2.loc[df2['win'] == win]['distortion'])\n",
    "    sp = \"\"\n",
    "    if win < 10:\n",
    "        sp = \"  \"\n",
    "    legend.append(\"$\\\\ell$={}{} (Med {:.3f})\".format(win, sp, np.abs(mu)))\n",
    "plt.legend(legend[::-1])\n",
    "plt.xlabel(\"Distortion\")\n",
    "plt.ylabel(\"Counts\")\n",
    "\n",
    "plt.subplot(122)\n",
    "sns.histplot(df2, x=\"snr\", hue=\"win\", element=\"step\", fill=False)\n",
    "plt.title(\"{} SNR vs Window Length $\\ell$, $\\\\lambda$={}\".format(description, lam))\n",
    "legend = []\n",
    "for win in wins:\n",
    "    mu = np.median(df2.loc[df2['win'] == win]['snr'])\n",
    "    sp = \"\"\n",
    "    if win < 10:\n",
    "        sp = \"  \"\n",
    "    legend.append(\"$\\\\ell$={}{} (Med {:.2f} dB)\".format(win, sp, np.abs(mu)))\n",
    "plt.legend(legend[::-1])\n",
    "plt.xlabel(\"SNR (dB)\")\n",
    "plt.ylabel(\"Counts\")\n",
    "plt.savefig(\"{}FixedLam.svg\".format(fileprefix), bbox_inches='tight')"
   ]
  },
  {
   "cell_type": "markdown",
   "id": "c189ad4c",
   "metadata": {},
   "source": [
    "# Fixing Window, Varying Lambda"
   ]
  },
  {
   "cell_type": "code",
   "execution_count": 9,
   "id": "c8aa7a2c",
   "metadata": {
    "scrolled": false
   },
   "outputs": [
    {
     "data": {
      "image/png": "[encoded data removed]",
      "text/plain": [
       "<Figure size 842.4x140.4 with 2 Axes>"
      ]
     },
     "metadata": {
      "needs_background": "light"
     },
     "output_type": "display_data"
    }
   ],
   "source": [
    "df = pd.DataFrame(data=d)\n",
    "win = 16\n",
    "df2 = df.loc[(df['win'] == win)*(df['do_viterbi'] == 1)]\n",
    "c = plt.cm.Accent\n",
    "fit_lam_palette = {0.1:0.8*np.array(list(c.colors[0])),\n",
    "          1.0:0.95*np.array(list(c.colors[1])),\n",
    "          10.0:np.minimum(1, np.array(list(c.colors[2]))*1.1),\n",
    "          np.inf:np.array(list(c.colors[3]))}\n",
    "df2 = df.loc[df['win'] == 16]\n",
    "fac = 0.65\n",
    "plt.figure(figsize=(fac*18, fac*3))\n",
    "win = 16\n",
    "plt.subplot(121)\n",
    "sns.histplot(df2, x=\"distortion\", hue=\"fit_lam\", palette=palette, element=\"step\", binwidth=0.003, binrange=[0, 0.3], fill=False)\n",
    "plt.title(\"{} Distortion, $\\ell$={}\".format(description, win))\n",
    "legend = []\n",
    "key_str = {0.1:\"0.1  \", 1:\"1.0  \", 10:\"10.0\"}\n",
    "for fit_lam in fit_lams:\n",
    "    mu = np.median(df2.loc[df2['fit_lam'] == fit_lam]['distortion'])\n",
    "    legend.append(\"$\\\\lambda=${} (Med {:.3f})\".format(key_str[fit_lam], mu))\n",
    "plt.legend(legend[::-1])\n",
    "plt.xlabel(\"Distortion\")\n",
    "plt.ylabel(\"Counts\")\n",
    "\n",
    "plt.subplot(122)\n",
    "sns.histplot(df2, x=\"snr\", hue=\"fit_lam\", palette=palette, element=\"step\", fill=False)\n",
    "plt.title(\"{} SNR Difference, $\\ell$={}\".format(description, win))\n",
    "legend = []\n",
    "for fit_lam in fit_lams:\n",
    "    mu = np.median(df2.loc[df2['fit_lam'] == fit_lam]['snr'])\n",
    "    legend.append(\"$\\\\lambda=${} (Med {:.2f} dB)\".format(key_str[fit_lam], mu))\n",
    "plt.legend(legend[::-1])\n",
    "plt.xlabel(\"SNR (dB)\")\n",
    "plt.ylabel(\"Counts\")\n",
    "plt.savefig(\"{}FixedWin.svg\".format(fileprefix), bbox_inches='tight')"
   ]
  },
  {
   "cell_type": "markdown",
   "id": "6c7802a7",
   "metadata": {},
   "source": [
    "# Shift Recovery Experiment"
   ]
  },
  {
   "cell_type": "code",
   "execution_count": 10,
   "id": "246746d7",
   "metadata": {},
   "outputs": [
    {
     "name": "stdout",
     "output_type": "stream",
     "text": [
      "1000\n"
     ]
    }
   ],
   "source": [
    "import json\n",
    "description = \"2D Caltech-101 in GTzan\"\n",
    "fileprefix = \"CaltechGTzan\"\n",
    "keys = ['fit_lam', 'distortion', 'snr', 'length', 'gt_shift', 'recovered_shift', 'recovered_distortion']\n",
    "d = {k:[] for k in keys}\n",
    "filename = \"\"\n",
    "orig_length = 0\n",
    "files = glob.glob(\"../results/ShiftExperiment/*.json\")\n",
    "print(len(files))\n",
    "for f in files:\n",
    "    fields = json.load(open(f))\n",
    "    for key in fields:\n",
    "        if key in keys:\n",
    "            d[key] += fields[key]"
   ]
  },
  {
   "cell_type": "code",
   "execution_count": 12,
   "id": "f90cbba2",
   "metadata": {},
   "outputs": [
    {
     "name": "stdout",
     "output_type": "stream",
     "text": [
      "40.01000000000204\n",
      "0.9296388888888889\n"
     ]
    },
    {
     "data": {
      "image/png": "[encoded data removed]",
      "text/plain": [
       "<Figure size 712.8x99 with 2 Axes>"
      ]
     },
     "metadata": {
      "needs_background": "light"
     },
     "output_type": "display_data"
    }
   ],
   "source": [
    "df = pd.DataFrame(data=d)\n",
    "df = df.loc[(df['fit_lam'] == 0.1)]\n",
    "diff = df['recovered_shift']-df['gt_shift']\n",
    "print(np.quantile(diff, 0.99))\n",
    "fac = 0.55\n",
    "plt.figure(figsize=(fac*18, fac*2.5))\n",
    "\n",
    "plt.subplot(121)\n",
    "plt.hist(diff, bins=np.arange(-10, 11)-0.5, edgecolor='k')\n",
    "plt.xlim([-10, 10])\n",
    "print(np.sum(np.abs(diff) < 10)/diff.size)\n",
    "plt.gca().set_xticks(np.arange(-10, 11, 1))\n",
    "plt.xlabel(\"Recovered Shift - Ground Truth Shift\")\n",
    "plt.title(\"Discrepancy of Estimated Shifts\")\n",
    "\n",
    "plt.subplot(122)\n",
    "sns.histplot(df, x=\"distortion\", element=\"step\", fill=False, binrange=[0, 0.3])\n",
    "sns.histplot(df, x=\"recovered_distortion\", element=\"step\", fill=False, binrange=[0, 0.3])\n",
    "plt.legend([\"Perfect Shift (Median {:.3f})\".format(np.median(df['distortion'])), \n",
    "            \"Estimated Shift (Median {:.3f})\".format(np.median(df['recovered_distortion'])) ])\n",
    "plt.title(\"Distortions\")\n",
    "\n",
    "plt.savefig(\"ShiftsExperiment.svg\", bbox_inches='tight')"
   ]
  },
  {
   "cell_type": "code",
   "execution_count": null,
   "id": "410fa19a",
   "metadata": {},
   "outputs": [],
   "source": []
  }
 ],
 "metadata": {
  "kernelspec": {
   "display_name": "Python 3 (ipykernel)",
   "language": "python",
   "name": "python3"
  },
  "language_info": {
   "codemirror_mode": {
    "name": "ipython",
    "version": 3
   },
   "file_extension": ".py",
   "mimetype": "text/x-python",
   "name": "python",
   "nbconvert_exporter": "python",
   "pygments_lexer": "ipython3",
   "version": "3.9.7"
  }
 },
 "nbformat": 4,
 "nbformat_minor": 5
}
