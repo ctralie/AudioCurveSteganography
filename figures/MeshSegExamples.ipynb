{
 "cells": [
  {
   "cell_type": "code",
   "execution_count": null,
   "id": "15661a5c",
   "metadata": {},
   "outputs": [],
   "source": [
    "%load_ext autoreload\n",
    "%autoreload 2\n",
    "import numpy as np\n",
    "import matplotlib.pyplot as plt\n",
    "from mpl_toolkits.mplot3d import Axes3D\n",
    "import subprocess\n",
    "import sys\n",
    "sys.path.append(\"../src\")\n",
    "from trimesh import *\n",
    "from imtools import *\n",
    "from tsp import *"
   ]
  },
  {
   "cell_type": "code",
   "execution_count": null,
   "id": "fbacdc06",
   "metadata": {},
   "outputs": [],
   "source": [
    "mesh_nums = [30, 44, 388, 93, 102, 125, 161, 200]\n",
    "mesh_names = [\"glass\", \"glasses\", \"pig\", \"ant\", \"chair\", \"octopus\", \"teddy\", \"hand\"]\n",
    "K = len(mesh_nums)\n",
    "res = 2.5\n",
    "plt.figure(figsize=(res*K//2, res*2))\n",
    "\n",
    "for k, (mesh, name) in enumerate(zip(mesh_nums, mesh_names)):\n",
    "    VPos, VColors, ITris = load_off(\"../data/meshseg/{}.off\".format(mesh))\n",
    "    X = get_hamiltonian_cycle(VPos, ITris, blossom_path=\"../blossom5\")\n",
    "\n",
    "    colors = sinebow(np.linspace(0, 1, X.shape[0]))\n",
    "    idx = np.argsort(X[:, 2])\n",
    "\n",
    "    plt.subplot(2, K//2, k+1)\n",
    "    plt.scatter(X[idx, 0], X[idx, 1], s=1, c=colors[idx, :])\n",
    "    plt.plot(X[:, 0], X[:, 1], 'k', linewidth=0.3)\n",
    "    plt.gca().set_facecolor((0.8, 0.8, 0.8))\n",
    "    plt.axis(\"equal\")\n",
    "    plt.gca().set_xticks([])\n",
    "    plt.gca().set_yticks([])\n",
    "    plt.title(name)\n",
    "plt.savefig(\"MeshSegExamples.svg\", bbox_inches='tight')"
   ]
  },
  {
   "cell_type": "code",
   "execution_count": null,
   "id": "33bc550a",
   "metadata": {},
   "outputs": [],
   "source": []
  }
 ],
 "metadata": {
  "kernelspec": {
   "display_name": "Python 3 (ipykernel)",
   "language": "python",
   "name": "python3"
  },
  "language_info": {
   "codemirror_mode": {
    "name": "ipython",
    "version": 3
   },
   "file_extension": ".py",
   "mimetype": "text/x-python",
   "name": "python",
   "nbconvert_exporter": "python",
   "pygments_lexer": "ipython3",
   "version": "3.9.7"
  }
 },
 "nbformat": 4,
 "nbformat_minor": 5
}
